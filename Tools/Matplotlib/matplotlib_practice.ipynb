{
 "cells": [
  {
   "cell_type": "code",
   "execution_count": null,
   "metadata": {},
   "outputs": [],
   "source": [
    "import matplotlib.pyplot as plt;\n",
    "import matplotlib as mpl;\n",
    "import numpy as np;\n",
    "import pandas as pd;\n",
    "\n",
    "dataframe = pd.DataFrame(data={\n",
    "    \"year\": [1998, 1999, 2000, 2001, 2002, 2003, 2004],\n",
    "    \"sells\": [340, 500, 230, 496, 950, 1350, 1760],\n",
    "});"
   ]
  },
  {
   "attachments": {},
   "cell_type": "markdown",
   "metadata": {},
   "source": [
    "<h2 style='color:#00FF7F'>Plot (Grafico de Linea)</h2>\n",
    "\n",
    "Realiza un grafico de linea (continua). Recibe los parametros X e Y\n",
    "\n",
    "<h4 style='color:#2464DC'>Propiedades</h4>\n",
    "\n",
    "- linewidth: Permite modificar el grosor de la linea\n",
    "\n",
    "- yticks() / xticks(): Recibe un array que indicara que se va a mostrar en los distintos ejes de coordenadas, tanto y como x\n",
    "\n",
    "- color: Cambia el color del grafico\n",
    "\n",
    "- label: Permite asignarle una etiqueta a nuestro grafico. Con la función legend activamos la visualizacion en el mismo\n",
    "\n",
    "- drawstyle: Permite modificar el tipo de grafico, por defecto lineas continuas (con pendiente) o por pasos steps. Hay más opciones\n",
    "\n",
    "- linestyle: Permite definir el tipo de linea del grafico\n",
    "\n",
    "- marker: Establecer unos marcadores en cada uno de los comienzos de los segmentos"
   ]
  },
  {
   "cell_type": "code",
   "execution_count": null,
   "metadata": {},
   "outputs": [],
   "source": [
    "plt.plot(dataframe['year'], dataframe['sells'], linewidth=5, color='red', label = 'Ventas por año');\n",
    "plt.plot(dataframe['year'], dataframe['sells'] * 2, linestyle='--', marker='o', label = 'Ventas x 2');\n",
    "#Muestra solamente estos valores en el eje de ordenadas\n",
    "plt.yticks([400, 1000, 1800]);\n",
    "\n",
    "plt.legend();\n",
    "plt.show();\n",
    "\n",
    "#Crea una tabla de n filas por n columnas para utilizar graficos y poder comparar\n",
    "fig, ax = plt.subplots(2, 2);\n",
    "\n",
    "#Un grafico de una funcion cuadratica con Numpy (parabola)\n",
    "#Genero un array de enteros de -5 a 5 con un incremento de 0.5\n",
    "x_values = np.arange(-5, 5, 0.5, dtype=float)\n",
    "ax[0,0].plot(x_values, pow(x_values, 2));\n",
    "\n",
    "#Funcion cubica\n",
    "ax[0,1].plot(x_values, pow(x_values, 3));\n",
    "\n",
    "#Funcion sinusoidal\n",
    "ax[1,0].plot(x_values, np.sin(x_values));\n",
    "\n",
    "#Funcion Modulo\n",
    "ax[1,1].plot(x_values, np.abs(x_values));"
   ]
  },
  {
   "attachments": {},
   "cell_type": "markdown",
   "metadata": {},
   "source": [
    "<h2 style='color:#5831ea'>Scatter Plot (Grafico de puntos)</h2>\n",
    "\n",
    "Se utiliza para poder comparar la variabilidad entre dos variables\n",
    "\n",
    "- title: Permite establecer el titulo del grafico\n",
    "\n",
    "- xlabel / ylabel: Se utiliza para poder ponerle una etiqueta a los ejes de nuestro grafico, nos da mayor contexto\n",
    "\n",
    "- c: Recibe como parametro un vector que representa cada una de sus posiciones un color, y las asigna a los puntos del scatter plot\n",
    "\n",
    "- colorbar(): Nos ayuda a visualizar el grafico con una escala de colores\n",
    "\n",
    "- cmap: Permite agregar un mapa de colores para nuestros puntos, por defecto es viridis\n",
    "\n",
    "- s: Propiedad para establecer el tamaño de cada uno de los puntos\n",
    "\n",
    "- alpha: Podemos modificar la transparencia de cada punto"
   ]
  },
  {
   "cell_type": "code",
   "execution_count": null,
   "metadata": {},
   "outputs": [],
   "source": [
    "men_weight = np.array([64, 76, 59, 89, 93, 91, 74, 84]);\n",
    "women_weight = np.array([40, 54, 57, 49, 50, 61, 64, 59]);\n",
    "\n",
    "plt.scatter(men_weight, women_weight, s=np.random.randint(100, 200, 8), c=np.arange(8), cmap='copper', alpha=0.8);\n",
    "plt.xlabel('men weight');\n",
    "plt.ylabel('women weight');\n",
    "plt.title('Women Weight vs Man Weight');\n",
    "\n",
    "plt.colorbar();"
   ]
  },
  {
   "attachments": {},
   "cell_type": "markdown",
   "metadata": {},
   "source": [
    "<h2 style='color:#Ea3151'>Bar plot (Grafico de barras)</h2>\n",
    "\n",
    "Este grafico nos permite comparar la mayor parte de las veces Features de clasificación con variables discretas\n",
    "\n",
    "Ejemplo: Conocer la cantidad de tests positivos y negativos en una muestra de la población\n",
    "\n",
    "- height: Son nuestros valores para nuestro eje de ordenadas (Altura del bar plot)\n",
    "\n",
    "- width: Establece el ancho de las barras del grafico\n",
    "\n",
    "- hatch: Permite colocar un relleno a los graficos, hay varias opciones\n",
    "\n",
    "- fill: Recibe un booleano, si es falso las barras no estaran rellenas con el color, solamente el borde"
   ]
  },
  {
   "cell_type": "code",
   "execution_count": null,
   "metadata": {},
   "outputs": [],
   "source": [
    "plt.bar(x=np.array(['Positivo', 'Negativo']), height=np.array([340, 33]), color = '#41c3d2', width=0.5, hatch='/', fill=False);\n",
    "\n",
    "plt.show();"
   ]
  },
  {
   "attachments": {},
   "cell_type": "markdown",
   "metadata": {},
   "source": [
    "<h2 style='color:#C53ace'>hist (Histograma)</h2>\n",
    "\n",
    "Permite visualizar la distribucion de los datos y su concentración\n",
    "\n",
    "- edgecolor: Agrega un borde entre cada una de las barras del histograma"
   ]
  },
  {
   "cell_type": "code",
   "execution_count": null,
   "metadata": {},
   "outputs": [],
   "source": [
    "#Una distribucion normal de media 5 con un desvio estandar de 1\n",
    "normal_data = np.random.normal(5, 1, 1000);\n",
    "\n",
    "plt.hist(x=normal_data, edgecolor='white', linewidth=1);"
   ]
  },
  {
   "attachments": {},
   "cell_type": "markdown",
   "metadata": {},
   "source": [
    "<h2 style='color:#3fd63a'>pie (Grafico de torta)</h2>\n",
    "\n",
    "- wedgeprops: Accedemos a las propiedades de borde, color, etc. Recibe un objeto\n",
    "\n",
    "- radius: Permite modificar el radio de la circunferencia\n",
    "\n",
    "- explode: Separa una porción del grafico del resto. Le pasamos un vector con la distancia de separación de cada porción.\n",
    "\n",
    "- autopct: Muestra información util en cada una de las porciones del grafico. Cantidad, porcentaje, etc"
   ]
  },
  {
   "cell_type": "code",
   "execution_count": null,
   "metadata": {},
   "outputs": [],
   "source": [
    "labels = np.array(['Argentina', 'Mexico', 'Chile', 'Brasil', 'Paraguay']);\n",
    "population = np.array([46, 167, 20 , 220, 8]); #In millions\n",
    "\n",
    "#Cambio el color del fondo de la figura\n",
    "plt.figure(facecolor='#989898');\n",
    "\n",
    "plt.pie(population, labels = labels, wedgeprops = {\"edgecolor\":'white'}, radius=1.4, explode=[0.8, 0, 0, 0, 0], autopct='%1.1f%%');\n",
    "\n",
    "plt.title('Country population', loc='left');\n",
    "plt.legend(title='population', loc='best');"
   ]
  },
  {
   "attachments": {},
   "cell_type": "markdown",
   "metadata": {},
   "source": [
    "<h2 style='color:#F144b1'>Boxplot (Grafico de caja)</h2>\n",
    "\n",
    "Nos permite visualizar la distribución de los cuartiles, lo cual dividen nuestro espacio muestral en subconjuntos de cuatro partes iguales. Podemos ver como estan distribuidos dichos datos. Además podemos visualizar la presencia de outliers\n",
    "\n",
    "La primer linea hace referencia al 25% (Q1), luego la linea naranja es la media (Q2), le sigue Q3 (75%) y por ultimo Q4 (100%) o también el maximo de nuestro conjunto.\n",
    "\n",
    "- Los outliers quedan representados con un \"o\""
   ]
  },
  {
   "cell_type": "code",
   "execution_count": null,
   "metadata": {},
   "outputs": [],
   "source": [
    "#En este caso 160 es un outlier, no tiene sentido hablar de una edad de 160 años para una persona\n",
    "ages = np.array([15, 20, 30, 40, 19, 60, 76, 86, 54, 76, 51, 9, 160, 12]);\n",
    "\n",
    "plt.boxplot(ages);"
   ]
  },
  {
   "attachments": {},
   "cell_type": "markdown",
   "metadata": {},
   "source": [
    "<h2 style='color:#Da412e'>3D Plots </h2>\n",
    "\n",
    "- subplot_kw: Establece que el tipo de grafico sea en 2D, 3D, polar, etc"
   ]
  },
  {
   "cell_type": "code",
   "execution_count": null,
   "metadata": {},
   "outputs": [],
   "source": [
    "fig_3d, ax = plt.subplots(2, 2, subplot_kw={\"projection\":\"3d\"}, figsize=(15,12));\n",
    "\n",
    "x_3d_values = np.arange(-10, 10, 0.5);\n",
    "y_3d_values = np.arange(-10, 10, 0.5);\n",
    "\n",
    "ax[0,0].scatter(x_3d_values, y_3d_values, (x_3d_values * y_3d_values), s=np.random.randint(50, 200, len(x_3d_values)));\n",
    "ax[0,1].plot3D(x_3d_values, y_3d_values, np.sin(x_3d_values));\n",
    "\n",
    "#Superficie en 3D\n",
    "#Es importante realizar un meshgrid, nos permite crear un array con cada punto coordenado (X, Y)\n",
    "X, Y = np.meshgrid(x_3d_values, y_3d_values);\n",
    "ax[1,0].plot_surface(X, Y, -pow(X,2) + pow(Y,2));\n",
    "ax[1,0].set_xlabel('X');\n",
    "ax[1,0].set_ylabel('Y');\n",
    "ax[1,0].set_zlabel('Z');\n",
    "\n",
    "#Otra superficie en 3D\n",
    "ax[1,1].plot_surface(X, Y, np.sqrt(pow(X,2) + pow(Y,2)));"
   ]
  }
 ],
 "metadata": {
  "kernelspec": {
   "display_name": "Python 3",
   "language": "python",
   "name": "python3"
  },
  "language_info": {
   "codemirror_mode": {
    "name": "ipython",
    "version": 3
   },
   "file_extension": ".py",
   "mimetype": "text/x-python",
   "name": "python",
   "nbconvert_exporter": "python",
   "pygments_lexer": "ipython3",
   "version": "3.11.2"
  },
  "orig_nbformat": 4
 },
 "nbformat": 4,
 "nbformat_minor": 2
}
