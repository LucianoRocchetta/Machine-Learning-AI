{
 "cells": [
  {
   "attachments": {},
   "cell_type": "markdown",
   "metadata": {},
   "source": [
    "# **Pandas**\n",
    "\n",
    "### **Objetivos**\n",
    "\n",
    "- Adquirir los conceptos principales de la liberia\n",
    "- Ejercer la practica con el DataSet\n",
    "\n",
    "\n",
    "Un DataFrame esta creado por un conjunto de Series (Estructuras de pandas unidimensionales)"
   ]
  },
  {
   "cell_type": "code",
   "execution_count": null,
   "metadata": {},
   "outputs": [],
   "source": [
    "import matplotlib.pyplot as plt;\n",
    "import matplotlib as mpl;\n",
    "import numpy as np;\n",
    "import pandas as pd;\n",
    "\n",
    "cars_data = pd.read_csv('./cars.csv')\n",
    "cars_data"
   ]
  },
  {
   "attachments": {},
   "cell_type": "markdown",
   "metadata": {},
   "source": [
    "<h2 style='color:violet'>Funciones basicas</h2>\n",
    "\n",
    "- index: Nos devuelve la cantidad de filas que contiene nuestro dataframe (enumerados por dataframe)\n",
    "\n",
    "- Head: Imprime las primeras n filas del dataframe\n",
    "\n",
    "- Tail: Imprime las ultimas n filas del dataframe\n",
    "\n",
    "- to_numpy(): Convierte la columna en una matriz fila (Array unidimensional) con Numpy\n",
    "\n",
    "- empty: Devuelve False si el dataframe no esta vacio, caso contrario True\n",
    "\n",
    "- equals(): Nos permite comparar valores, si son iguales devuelve true, si son distintos false\n",
    "\n",
    "- describe(): Imprime los principales valores estadisticos (Quartiles, percentiles, media, minimo, maximo, cantidad, desvio estandar)\n",
    "    - describe(percentiles=[]): Percentiles personalizados en describe\n",
    "\n",
    "- count(): Cuenta la cantidad de datos\n",
    "\n",
    "- reindex([data], axis=): Permite \"copiar\" un dataframe y agregar features o filas (Si no estaban originalmente, lo agrega con valores nan)\n",
    "\n",
    "- loc: Esta funcion nos permite acceder a valores mediante un rango [a:b]\n",
    "\n",
    "- at: Permite acceder a una posicion especifica del dataframe, at[row, 'feature']\n",
    "\n",
    "- info: Es una tabla que nos permite visualizar como esta compuesto el Dataframe (Sus features, dtypes, cantidad de datos)\n",
    "\n",
    "- groupby: Nos permite hacer agrupaciones de datos y aplicar una función de agregación con el uso de agg"
   ]
  },
  {
   "cell_type": "code",
   "execution_count": null,
   "metadata": {},
   "outputs": [],
   "source": [
    "cars_data.index;\n",
    "\n",
    "cars_data.shape\n",
    "\n",
    "cars_data.head(n=10);\n",
    "\n",
    "cars_data.tail(n=5);\n",
    "\n",
    "cars_data['horsepower'].to_numpy();\n",
    "\n",
    "cars_data.empty;\n",
    "\n",
    "cars_data['cylinders'].head(n=5).equals(8);\n",
    "\n",
    "cars_data.describe();\n",
    "\n",
    "cars_data.info();\n",
    "\n",
    "cars_data.describe(percentiles=[0.05, 0.25, 0.40, 0.10]);\n",
    "\n",
    "cars_data['car name'].count();\n",
    "\n",
    "cars_data.loc[3:4];\n",
    "\n",
    "cars_data.at[5, 'cylinders'];\n",
    "\n",
    "#Reindex: \n",
    "#En este caso la columna new_feature = nan\n",
    "new_cars_data = cars_data.reindex(['cylinders', 'horsepower', 'new_feature'], axis=1);\n",
    "\n",
    "# Realiza una copia de cars_data pero solamente las columnas que le pasemos como lista\n",
    "df_test_copy = cars_data[['cylinders', 'displacement']];\n",
    "\n",
    "# Uso del groupby\n",
    "# Hace una agrupacion y suma todas las filas en donde model year sean iguales.\n",
    "cars_year_count = cars_data.groupby('model year').agg('sum');\n",
    "print(cars_year_count)\n"
   ]
  },
  {
   "attachments": {},
   "cell_type": "markdown",
   "metadata": {},
   "source": [
    "<h2 style='color:orange'>Missing Data</h2>\n",
    "\n",
    "- Trabajar con datos que no estan definidos y como proceder con ellos\n",
    "- Limpiar datos o incluso rellenar valores por defecto\n",
    "\n",
    "- fillna(): Nos permite reemplazar los datos nan por un valor, podemos definir limite, feature, etc.\n",
    "    - Propiedad inplace = True para modificar el dataframe original\n",
    "\n",
    "- dropna(): Elimina todas las filas en donde se encuentre un campo \n",
    "    - Para reemplazar el dataframe original se utiliza la propiedad inplace = True\n",
    "    \n",
    "- to_datetime: Transforma un formato númerico en una fecha. \n",
    "\n",
    "- duplicated(): Esta funcion nos permite saber si hay datos duplicados en nuestro dataframe (Compara la fila anterior con la actual, y si son iguales devuelve true)\n",
    "\n",
    "- drop_duplicates(): Elimina las filas o datos duplicados\n",
    "    - inplace = True para reemplazar el dataframe original"
   ]
  },
  {
   "cell_type": "code",
   "execution_count": null,
   "metadata": {},
   "outputs": [],
   "source": [
    "\n",
    "# Uso new_cars_data ya que tiene campos nan\n",
    "new_cars_data.fillna(9);\n",
    "\n",
    "#Podemos rellenar solamente una columna\n",
    "new_cars_data['new_feature'].fillna(5);\n",
    "\n",
    "new_cars_data.dropna();\n",
    "\n",
    "#Reemplazar por la media, lo mismo podemos hacer con la mediana o moda.\n",
    "mean = new_cars_data['horsepower'].mean();\n",
    "new_cars_data.fillna(mean);\n",
    "\n",
    "new_cars_data.duplicated();\n",
    "\n",
    "new_cars_data.drop_duplicates();"
   ]
  },
  {
   "attachments": {},
   "cell_type": "markdown",
   "metadata": {},
   "source": [
    "<h2 style='color: yellow'>Modificacion de Dataframes</h2>\n",
    "\n",
    "- pop: Elimina una columna de nuestro Dataframe y nos devuelve la misma\n",
    "\n",
    "- <h7 style='color: red'>Lo van a eliminar</h7> append: Añade una fila a nuestro dataframe, le debemos pasar la serie con []\n",
    "    - ignore_index: True para ubicar la nueva fila en el ultimo index\n",
    "\n",
    "- shape: Devuelve la cantidad de filas y columnas que contiene nuestro dataframe\n",
    "\n",
    "- sort_index(): Nos permite ordenar por orden ascendente o descendente las filas\n",
    "\n",
    "- sort_values(): Permite ordenar por orden ascendente o descendente los valores de las features (columnas)\n",
    "\n",
    "- apply: Permite modificar valores mediante una expresion o funcion\n",
    "    - Se utiliza lambda \"nombreDeVariable\" para que tome el dato de cada una de las filas "
   ]
  },
  {
   "cell_type": "code",
   "execution_count": null,
   "metadata": {},
   "outputs": [],
   "source": [
    "#Utilizo una copia de cars_data para modificarlo\n",
    "\n",
    "dataframe_copy = cars_data;\n",
    "\n",
    "#dataframe_copy.sort_index(ascending=True);\n",
    "\n",
    "#dataframe_copy.sort_values(ascending=False)\n",
    "\n",
    "#dataframe_copy.pop('horsepower');\n",
    "\n",
    "#Filtra la información por displacement <= 300 y las cilindradas iguales a 8\n",
    "dataframe_copy[(dataframe_copy['displacement'] <= 300) & (dataframe_copy['cylinders'] == 8)];\n",
    "\n",
    "def changeValue (x):\n",
    "    if x > 20:\n",
    "        return x * 3;\n",
    "    return x;\n",
    "\n",
    "#Aplicacion de funciones con uso de lambda\n",
    "dataframe_copy['acceleration'] = dataframe_copy['acceleration'].apply(lambda x: x*2) \n",
    "dataframe_copy['acceleration'].apply(lambda x: changeValue(x));"
   ]
  },
  {
   "attachments": {},
   "cell_type": "markdown",
   "metadata": {},
   "source": [
    "<h2 style='color:#1d86b9'>Statistics</h2>\n",
    "\n",
    "- Mean(): Devuelve la media de cada una de las features (series) de nuestro Dataframe\n",
    "\n",
    "- Mode(): Calcula la moda \n",
    "\n",
    "- std(): Calcula el desvio estandar de nuestro dataframe. Permite visualizar que tan dispersos se encuentran nuestros datos respecto a la media\n",
    "\n",
    "- sum(): Suma todos los valores de nuestra feature"
   ]
  },
  {
   "cell_type": "code",
   "execution_count": null,
   "metadata": {},
   "outputs": [],
   "source": [
    "new_df = pd.DataFrame(\n",
    "    data=np.random.randint(0, 100, size=[10, 4]),\n",
    "    columns=['A', 'B', 'C', 'D']\n",
    ")\n",
    "\n",
    "new_df.mean();\n",
    "new_df['C'].mode();\n",
    "new_df.std();\n",
    "new_df['D'].sum();"
   ]
  }
 ],
 "metadata": {
  "kernelspec": {
   "display_name": "Python 3",
   "language": "python",
   "name": "python3"
  },
  "language_info": {
   "codemirror_mode": {
    "name": "ipython",
    "version": 3
   },
   "file_extension": ".py",
   "mimetype": "text/x-python",
   "name": "python",
   "nbconvert_exporter": "python",
   "pygments_lexer": "ipython3",
   "version": "3.11.2"
  },
  "orig_nbformat": 4,
  "vscode": {
   "interpreter": {
    "hash": "87a723b723b2c9ca5e5d26602dbb62a61c8c770fb0bece8104799dd745ec6a6d"
   }
  }
 },
 "nbformat": 4,
 "nbformat_minor": 2
}
