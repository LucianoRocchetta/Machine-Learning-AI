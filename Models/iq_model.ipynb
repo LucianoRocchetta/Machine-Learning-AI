{
 "cells": [
  {
   "cell_type": "code",
   "execution_count": 2,
   "metadata": {},
   "outputs": [
    {
     "name": "stdout",
     "output_type": "stream",
     "text": [
      "0.875\n"
     ]
    }
   ],
   "source": [
    "import numpy as np\n",
    "import pandas as pd\n",
    "import sklearn\n",
    "import matplotlib.pyplot as plt;\n",
    "from sklearn.model_selection import train_test_split\n",
    "from sklearn.linear_model import LogisticRegression\n",
    "\n",
    "iq_dataframe = pd.read_csv('../Datasets/IQ_dataset.csv')\n",
    "\n",
    "options = ['Low Average', 'Average', 'High Average']\n",
    "\n",
    "#Reshape data\n",
    "X = np.reshape(iq_dataframe['IQ'].to_numpy(), (-1,1))\n",
    "\n",
    "#Split data in training and testing data\n",
    "X_train, X_test, y_train, y_test = train_test_split(X, iq_dataframe['Target'])\n",
    "\n",
    "#Using model\n",
    "model = LogisticRegression(tol=0.1)\n",
    "model.fit(X_train, y_train)\n",
    "\n",
    "print(model.score(X_test, y_test))"
   ]
  },
  {
   "cell_type": "code",
   "execution_count": null,
   "metadata": {},
   "outputs": [],
   "source": [
    "user_value = 1\n",
    "while user_value != 0:\n",
    "    user_value = int(input('Enter your IQ: '))\n",
    "    predict = model.predict([[user_value]])\n",
    "    print(options[predict[0]]);"
   ]
  }
 ],
 "metadata": {
  "kernelspec": {
   "display_name": "Python 3",
   "language": "python",
   "name": "python3"
  },
  "language_info": {
   "codemirror_mode": {
    "name": "ipython",
    "version": 3
   },
   "file_extension": ".py",
   "mimetype": "text/x-python",
   "name": "python",
   "nbconvert_exporter": "python",
   "pygments_lexer": "ipython3",
   "version": "3.11.2"
  },
  "orig_nbformat": 4
 },
 "nbformat": 4,
 "nbformat_minor": 2
}
